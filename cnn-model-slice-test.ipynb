{
 "cells": [
  {
   "cell_type": "code",
   "execution_count": null,
   "id": "c8e7a05c",
   "metadata": {},
   "outputs": [],
   "source": [
    "import tensorflow as tf\n",
    "from tensorflow.keras.preprocessing.image import ImageDataGenerator\n",
    "from tensorflow.keras.models import Sequential\n",
    "import numpy as np\n",
    "import matplotlib.pyplot as plt\n",
    "from tensorflow.keras.regularizers import L2\n",
    "from tensorflow.keras.models import Sequential\n",
    "from tensorflow.keras.layers import Conv2D, MaxPooling2D, Flatten, Dense"
   ]
  },
  {
   "cell_type": "code",
   "execution_count": null,
   "id": "0af15930",
   "metadata": {},
   "outputs": [],
   "source": [
    "def test_img(img: np.array):\n",
    "    plt.figure(figsize=(6,6))\n",
    "    plt.imshow(img, cmap='gray')"
   ]
  },
  {
   "cell_type": "code",
   "execution_count": null,
   "id": "bf77c44f",
   "metadata": {},
   "outputs": [],
   "source": [
    "img = plt.imread('data3a/training/01-minor/0001.JPEG')\n",
    "img = np.array(img)\n",
    "test_img(img=img)"
   ]
  },
  {
   "cell_type": "code",
   "execution_count": null,
   "id": "ba49d70f",
   "metadata": {},
   "outputs": [],
   "source": [
    "train_dir = 'data3a/training'\n",
    "val_dir = 'data3a/validation'\n",
    "img_width, img_height = 150, 150\n",
    "batch_size = 32"
   ]
  },
  {
   "cell_type": "code",
   "execution_count": null,
   "id": "33f2c600",
   "metadata": {},
   "outputs": [],
   "source": [
    "train_datagen = ImageDataGenerator(\n",
    "    rescale=1./255,\n",
    "    rotation_range=20,\n",
    "    width_shift_range=0.2,\n",
    "    height_shift_range=0.2,\n",
    "    shear_range=0.2,\n",
    "    zoom_range=0.1,\n",
    "    horizontal_flip=True,\n",
    "    vertical_flip=True\n",
    ")\n",
    "\n",
    "val_datagen = ImageDataGenerator(rescale=1./255)\n"
   ]
  },
  {
   "cell_type": "code",
   "execution_count": null,
   "id": "059cb6d1",
   "metadata": {},
   "outputs": [],
   "source": [
    "train_generator = train_datagen.flow_from_directory(\n",
    "    train_dir,\n",
    "    target_size=(img_width, img_height),\n",
    "    batch_size=batch_size,\n",
    "    class_mode='categorical'\n",
    ")\n",
    "\n",
    "val_generator = val_datagen.flow_from_directory(\n",
    "    val_dir,\n",
    "    target_size=(img_width, img_height),\n",
    "    batch_size=batch_size,\n",
    "    class_mode='categorical'\n",
    ")"
   ]
  },
  {
   "cell_type": "code",
   "execution_count": null,
   "id": "77b26b8d",
   "metadata": {},
   "outputs": [],
   "source": [
    "from tensorflow.keras.layers import (\n",
    "    Dense, Dropout, Activation, Flatten,\n",
    "    Conv2D, MaxPooling2D\n",
    ")\n",
    "model = Sequential()\n",
    "#1st\n",
    "model.add(Conv2D(32, (3, 3), activation='relu',input_shape=(img_width, img_height, 3))) # 32 filters, 3x3 kernel size, (img width, img height,3) => 3 color channel (R,G,B)\n",
    "model.add(MaxPooling2D((2, 2))) #add max pooling layer, 2d 2x2 size, for downsampling"
   ]
  },
  {
   "cell_type": "code",
   "execution_count": null,
   "id": "f1976b5b",
   "metadata": {},
   "outputs": [],
   "source": [
    "#2nd\n",
    "model.add(Conv2D(64, (3, 3), activation='relu',kernel_regularizer=L2(l=0.01)))\n",
    "model.add(MaxPooling2D((2, 2)))"
   ]
  },
  {
   "cell_type": "code",
   "execution_count": null,
   "id": "7ee73d47",
   "metadata": {},
   "outputs": [],
   "source": [
    "#3rd\n",
    "model.add(Conv2D(128, (3, 3), activation='relu',kernel_regularizer=L2(l=0.01)))\n",
    "model.add(MaxPooling2D((2, 2)))"
   ]
  }
 ],
 "metadata": {
  "kernelspec": {
   "display_name": "Python 3 (ipykernel)",
   "language": "python",
   "name": "python3"
  },
  "language_info": {
   "codemirror_mode": {
    "name": "ipython",
    "version": 3
   },
   "file_extension": ".py",
   "mimetype": "text/x-python",
   "name": "python",
   "nbconvert_exporter": "python",
   "pygments_lexer": "ipython3",
   "version": "3.11.8"
  }
 },
 "nbformat": 4,
 "nbformat_minor": 5
}
